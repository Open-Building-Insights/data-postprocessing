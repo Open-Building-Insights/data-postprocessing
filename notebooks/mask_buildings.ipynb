{
 "cells": [
  {
   "cell_type": "markdown",
   "metadata": {},
   "source": [
    "## mask_buildings\n",
    "### Remove information for buildings deemed too sensitive (e.g. Military)"
   ]
  },
  {
   "cell_type": "markdown",
   "metadata": {},
   "source": [
    "### Initial configuration\n",
    "#### To start working with this particular notebook, you need to provide necessary credential and settings\n",
    "#### Below is an template of configuration, which is necessary prepare aside of this notebook and copy & paste all content in triple quotes to the next cell's input field\n",
    "    \"\"\"\n",
    "    {\n",
    "    \"COS_ENDPOINT_URL\": \"s3.private.eu-de.cloud-object-storage.appdomain.cloud\",\n",
    "    \"COS_AUTH_ENDPOINT_URL\": \"https://iam.cloud.ibm.com/oidc/token\",\n",
    "    \"COS_APIKEY\": \"xxx\",\n",
    "    \"DB2_CONNECTION_STRING\": \"jdbc:db2://65beb513-5d3d-4101-9001-f42e9dc954b3.brt9d04f0cmqeb8u7740.databases.appdomain.cloud:30371/BLUDB:sslConnection=true;useJDBC4ColumnNameAndLabelSemantics=false;db2.jcc.charsetDecoderEncoder=3;\",\n",
    "    \"DB2_USERNAME\": \"xxx\",\n",
    "    \"DB2_PASSWORD\": \"xxx\",\n",
    "    \"UTILS_BUCKET\": \"notebook-utils-bucket\",\n",
    "    \"COUNTRY_TABLE\": \"FEATURES_DB_MAHARASHTRA\"\n",
    "    }\n",
    "    \"\"\"\n"
   ]
  },
  {
   "cell_type": "code",
   "execution_count": 4,
   "metadata": {},
   "outputs": [],
   "source": [
    "# Read notebook configuration\n",
    "import getpass\n",
    "import json\n",
    "\n",
    "config_str = getpass.getpass('Enter your prepared config: ')\n",
    "config = json.loads(config_str)"
   ]
  },
  {
   "cell_type": "code",
   "execution_count": null,
   "metadata": {},
   "outputs": [],
   "source": [
    "#Install neccessary packages if not installed before\n",
    "#! pip install shapely\n",
    "#! pip install JayDeBeApi"
   ]
  },
  {
   "cell_type": "code",
   "execution_count": 5,
   "metadata": {},
   "outputs": [],
   "source": [
    "# Import necessary libraries\n",
    "import pandas as pd\n",
    "import overpass\n",
    "import geojson\n",
    "import requests\n",
    "import getpass\n",
    "from shapely.geometry import Point, Polygon, mapping, shape\n",
    "import shapely\n",
    "from shapely import wkt\n",
    "import json\n",
    "# import geopandas as gpd\n",
    "import jaydebeapi as jdbc\n",
    "import jpype\n",
    "import ibm_boto3\n",
    "import gc\n",
    "import io\n",
    "import os\n",
    "from botocore.client import Config\n",
    "from tqdm import tqdm\n",
    "from skimage import measure as M"
   ]
  },
  {
   "cell_type": "code",
   "execution_count": 6,
   "metadata": {},
   "outputs": [],
   "source": [
    "sql_tablename = config[\"COUNTRY_TABLE\"]"
   ]
  },
  {
   "cell_type": "code",
   "execution_count": 7,
   "metadata": {},
   "outputs": [
    {
     "name": "stdout",
     "output_type": "stream",
     "text": [
      "Copying to localStorage :  db2jcc4.jar\n",
      "Error occured:  No module named 'utils'\n"
     ]
    }
   ],
   "source": [
    "#load db2jcc4.jar\n",
    "cos_client = ibm_boto3.client(service_name='s3',\n",
    "                              ibm_api_key_id=config[\"COS_APIKEY\"],\n",
    "                              ibm_auth_endpoint=config[\"COS_AUTH_ENDPOINT_URL\"],\n",
    "                              config=Config(signature_version='oauth'),\n",
    "                              endpoint_url=config[\"COS_ENDPOINT_URL\"])\n",
    "\n",
    "response = cos_client.list_objects_v2(Bucket=config[\"UTILS_BUCKET\"])\n",
    "\n",
    "try:\n",
    "    for obj in response['Contents']:\n",
    "        name = obj['Key']\n",
    "        \n",
    "        if name == 'db2jcc4.jar':\n",
    "            streaming_body_1 = cos_client.get_object(Bucket=config[\"UTILS_BUCKET\"], Key=name)['Body']\n",
    "            print(\"Copying to localStorage :  \" + name)\n",
    "            with io.FileIO(name, 'w') as file:\n",
    "                for i in io.BytesIO(streaming_body_1.read()):\n",
    "                    file.write(i)\n",
    "    \n",
    "    from utils import *\n",
    "    print('External utils succesfully imported')\n",
    "except Exception as e:\n",
    "    print('Error occured: ', e)"
   ]
  },
  {
   "cell_type": "code",
   "execution_count": 8,
   "metadata": {},
   "outputs": [
    {
     "name": "stderr",
     "output_type": "stream",
     "text": [
      "/var/folders/42/bkr77x_n1qv118pt28lzd3380000gn/T/ipykernel_43250/2319750877.py:14: DeprecationWarning: jpype._core.isThreadAttachedToJVM is deprecated, use java.lang.Thread.isAttached instead\n",
      "  if jpype.isJVMStarted() and not jpype.isThreadAttachedToJVM():\n"
     ]
    }
   ],
   "source": [
    "\n",
    "# connect to the IBM DB2 function\n",
    "def connect_to_db():\n",
    "\n",
    "    jar = 'db2jcc4.jar'\n",
    "    os.environ['CLASSPATH'] = jar\n",
    "\n",
    "    args='-Djava.class.path=%s' % jar\n",
    "    jvm_path = jpype.getDefaultJVMPath()\n",
    "    try:\n",
    "        jpype.startJVM(jvm_path, args)\n",
    "    except Exception as e:\n",
    "        print('startJVM exception: ', e)\n",
    "        \n",
    "    if jpype.isJVMStarted() and not jpype.isThreadAttachedToJVM():\n",
    "        jpype.attachThreadToJVM()\n",
    "        jpype.java.lang.Thread.currentThread().setContextClassLoader(jpype.java.lang.ClassLoader.getSystemClassLoader())\n",
    "        \n",
    "    # create JDBC connection\n",
    "    conn = jdbc.connect(\n",
    "                'com.ibm.db2.jcc.DB2Driver',\n",
    "                config['DB2_CONNECTION_STRING'],\n",
    "                [config[\"DB2_USERNAME\"], config[\"DB2_PASSWORD\"]],\n",
    "                'db2jcc4.jar')\n",
    "    \n",
    "    return conn\n",
    "\n",
    "DB2_connection = connect_to_db()\n",
    "cursor = DB2_connection.cursor()"
   ]
  },
  {
   "cell_type": "code",
   "execution_count": 9,
   "metadata": {},
   "outputs": [],
   "source": [
    "def fetch_inactive_builings():\n",
    "    '''\n",
    "        This particular function is aimed for obtating all entries from defined rectangle for selected SQL table\n",
    "    '''\n",
    "\n",
    "    # fetch column names from defined SQL table\n",
    "\n",
    "    columns = ['latitude', 'longitude']\n",
    "    \n",
    "    # sql statement for selecting entries by defined rectangle boundaries\n",
    "    sql = f\"\"\"\n",
    "        SELECT {', '.join(columns)} FROM USER1.{sql_tablename}\n",
    "        WHERE \n",
    "            \"OSM_TYPE\" = 'Inactive'\n",
    "        \"\"\"\n",
    "    \n",
    "    try:\n",
    "        cursor.execute(sql)\n",
    "        data = cursor.fetchall()\n",
    "    except Exception as e:\n",
    "        print(f\"Fetch items error occured: {e}\")\n",
    "        print(\"Reconnecting to the database try again...\")\n",
    "\n",
    "        conn = connect_to_db()\n",
    "        cursor = conn.cursor()\n",
    "        cursor.execute(sql)\n",
    "        data = cursor.fetchall()\n",
    "    finally:\n",
    "        df = pd.DataFrame(data=data, columns=columns)\n",
    "\n",
    "        return df"
   ]
  },
  {
   "cell_type": "code",
   "execution_count": 16,
   "metadata": {},
   "outputs": [],
   "source": [
    "def update_DB2_row(lat, lon, cursor):\n",
    "    try:\n",
    "        \n",
    "        if sql_tablename == 'FEATURES_DB_MAHARASHTRA':\n",
    "            sql = f\"\"\"\n",
    "            UPDATE \"USER1\".\"{sql_tablename}\"\n",
    "                SET\n",
    "                    \"ML_MODEL\" = '-',\n",
    "                    \"ML_CONFIDENCE\" = NULL,\n",
    "                    \"HEIGHT\" = NULL,\n",
    "                    \"HEIGHT_MEDIAN\" = NULL,\n",
    "                    \"HEIGHT_MEAN\" = NULL,\n",
    "                    \"HEIGHT_MAX\" = NULL,\n",
    "                    \"URBAN_SPLIT\" = NULL,\n",
    "                    \"GHSL_SMOD\" = NULL,\n",
    "                    \"FLOORS\" = NULL,\n",
    "                    \"GFA_IN_METERS\" = NULL,\n",
    "                    \"CLASSIFICATION_TYPE\" = 'Inactive'\n",
    "                WHERE \n",
    "                    (\"LATITUDE\" = {lat}) AND \n",
    "                    (\"LONGITUDE\" = {lon})\n",
    "            \"\"\"\n",
    "            \n",
    "        elif sql_tablename == 'FEATURES_DB_VIDA_EXTENDED':\n",
    "            sql = f\"\"\"\n",
    "            UPDATE \"USER1\".\"{sql_tablename}\"\n",
    "                SET\n",
    "                    \"ML_MODEL\" = '-',\n",
    "                    \"ML_CONFIDENCE\" = NULL,\n",
    "                    \"HEIGHT\" = NULL,\n",
    "                    \"HEIGHT_MEDIAN\" = NULL,\n",
    "                    \"HEIGHT_MEAN\" = NULL,\n",
    "                    \"HEIGHT_MAX\" = NULL,\n",
    "                    \"URBAN_SPLIT\" = NULL,\n",
    "                    \"GHSL_SMOD\" = NULL,\n",
    "                    \"FLOORS\" = NULL,\n",
    "                    \"GFA_IN_METERS\" = NULL,\n",
    "                    \"ELEC_ACCESS_PERCENT\" = NULL,\n",
    "                    \"ELEC_CONSUMPTION_KWH_MONTH\" = NULL,\n",
    "                    \"ELEC_CONSUMPTION_STD_KWH_MONTH\" = NULL,\n",
    "                    \"CLASSIFICATION_TYPE\" = 'Inactive'\n",
    "                WHERE \n",
    "                    (\"LATITUDE\" = {lat}) AND \n",
    "                    (\"LONGITUDE\" = {lon})\n",
    "            \"\"\"\n",
    "            \n",
    "        cursor.execute(sql)\n",
    "    except Exception as e:\n",
    "        print(e, sql)\n",
    "        "
   ]
  },
  {
   "cell_type": "code",
   "execution_count": 15,
   "metadata": {},
   "outputs": [
    {
     "name": "stdout",
     "output_type": "stream",
     "text": [
      "Fetch items error occured: cannot access local variable 'cursor' where it is not associated with a value\n",
      "Reconnecting to the database try again...\n",
      "startJVM exception:  JVM is already started\n"
     ]
    },
    {
     "data": {
      "text/html": [
       "<div>\n",
       "<style scoped>\n",
       "    .dataframe tbody tr th:only-of-type {\n",
       "        vertical-align: middle;\n",
       "    }\n",
       "\n",
       "    .dataframe tbody tr th {\n",
       "        vertical-align: top;\n",
       "    }\n",
       "\n",
       "    .dataframe thead th {\n",
       "        text-align: right;\n",
       "    }\n",
       "</style>\n",
       "<table border=\"1\" class=\"dataframe\">\n",
       "  <thead>\n",
       "    <tr style=\"text-align: right;\">\n",
       "      <th></th>\n",
       "      <th>latitude</th>\n",
       "      <th>longitude</th>\n",
       "    </tr>\n",
       "  </thead>\n",
       "  <tbody>\n",
       "    <tr>\n",
       "      <th>0</th>\n",
       "      <td>0.599188</td>\n",
       "      <td>34.620904</td>\n",
       "    </tr>\n",
       "    <tr>\n",
       "      <th>1</th>\n",
       "      <td>0.598779</td>\n",
       "      <td>34.621072</td>\n",
       "    </tr>\n",
       "    <tr>\n",
       "      <th>2</th>\n",
       "      <td>0.598905</td>\n",
       "      <td>34.621080</td>\n",
       "    </tr>\n",
       "    <tr>\n",
       "      <th>3</th>\n",
       "      <td>0.599217</td>\n",
       "      <td>34.621081</td>\n",
       "    </tr>\n",
       "    <tr>\n",
       "      <th>4</th>\n",
       "      <td>0.598582</td>\n",
       "      <td>34.621095</td>\n",
       "    </tr>\n",
       "    <tr>\n",
       "      <th>...</th>\n",
       "      <td>...</td>\n",
       "      <td>...</td>\n",
       "    </tr>\n",
       "    <tr>\n",
       "      <th>8344</th>\n",
       "      <td>-4.078261</td>\n",
       "      <td>39.629762</td>\n",
       "    </tr>\n",
       "    <tr>\n",
       "      <th>8345</th>\n",
       "      <td>-4.077238</td>\n",
       "      <td>39.629797</td>\n",
       "    </tr>\n",
       "    <tr>\n",
       "      <th>8346</th>\n",
       "      <td>-4.082093</td>\n",
       "      <td>39.629827</td>\n",
       "    </tr>\n",
       "    <tr>\n",
       "      <th>8347</th>\n",
       "      <td>-4.073610</td>\n",
       "      <td>39.629852</td>\n",
       "    </tr>\n",
       "    <tr>\n",
       "      <th>8348</th>\n",
       "      <td>-4.073240</td>\n",
       "      <td>39.629853</td>\n",
       "    </tr>\n",
       "  </tbody>\n",
       "</table>\n",
       "<p>8349 rows × 2 columns</p>\n",
       "</div>"
      ],
      "text/plain": [
       "      latitude  longitude\n",
       "0     0.599188  34.620904\n",
       "1     0.598779  34.621072\n",
       "2     0.598905  34.621080\n",
       "3     0.599217  34.621081\n",
       "4     0.598582  34.621095\n",
       "...        ...        ...\n",
       "8344 -4.078261  39.629762\n",
       "8345 -4.077238  39.629797\n",
       "8346 -4.082093  39.629827\n",
       "8347 -4.073610  39.629852\n",
       "8348 -4.073240  39.629853\n",
       "\n",
       "[8349 rows x 2 columns]"
      ]
     },
     "execution_count": 15,
     "metadata": {},
     "output_type": "execute_result"
    }
   ],
   "source": [
    "df = fetch_inactive_builings()\n",
    "df"
   ]
  },
  {
   "cell_type": "code",
   "execution_count": 14,
   "metadata": {},
   "outputs": [
    {
     "name": "stdout",
     "output_type": "stream",
     "text": [
      "startJVM exception:  JVM is already started\n"
     ]
    }
   ],
   "source": [
    "conn = connect_to_db()\n",
    "cursor = conn.cursor()"
   ]
  },
  {
   "cell_type": "code",
   "execution_count": 13,
   "metadata": {},
   "outputs": [],
   "source": [
    "for row in df.itertuples():\n",
    "    \n",
    "    try:\n",
    "        update_DB2_row(row.latitude, row.longitude, cursor)\n",
    "    except Exception as e:\n",
    "        \n",
    "        conn = connect_to_db()\n",
    "        cursor = conn.cursor()\n",
    "        update_DB2_row(row.latitude, row.longitude, cursor)\n"
   ]
  }
 ],
 "metadata": {
  "kernelspec": {
   "display_name": "Python 3",
   "language": "python",
   "name": "python3"
  },
  "language_info": {
   "codemirror_mode": {
    "name": "ipython",
    "version": 3
   },
   "file_extension": ".py",
   "mimetype": "text/x-python",
   "name": "python",
   "nbconvert_exporter": "python",
   "pygments_lexer": "ipython3",
   "version": "3.11.9"
  }
 },
 "nbformat": 4,
 "nbformat_minor": 2
}
